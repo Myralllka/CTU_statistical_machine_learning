{
 "cells": [
  {
   "cell_type": "code",
   "execution_count": null,
   "metadata": {},
   "outputs": [],
   "source": [
    "from PIL import Image\n",
    "import matplotlib.pyplot as plt\n",
    "import numpy as np\n",
    "from os import listdir\n",
    "from os.path import isfile, join\n",
    "\n",
    "# load single example\n",
    "def load_example( img_path ):\n",
    "\n",
    "    Y = img_path[img_path.rfind('_')+1:-4]\n",
    "\n",
    "    img = Image.open( img_path )\n",
    "    img_mat = np.asarray( img )\n",
    "    \n",
    "    n_letters = len( Y )\n",
    "    im_height = int(img_mat.shape[0])\n",
    "    im_width = int(img_mat.shape[1]/n_letters)\n",
    "    n_pixels = im_height*im_width\n",
    "    \n",
    "    X = np.zeros( [int(n_pixels+n_pixels*(n_pixels-1)/2),n_letters])\n",
    "    for i in range(n_letters):\n",
    "        \n",
    "        # single letter\n",
    "        letter = img_mat[:,i*im_width:(i+1)*im_width]/255\n",
    "        \n",
    "        # compute features\n",
    "        x = letter.flatten()\n",
    "        X[0:len(x),i] = x\n",
    "        cnt = n_pixels \n",
    "        for j in range(0,n_pixels-1):\n",
    "            for k in range(j+1,n_pixels):\n",
    "                X[cnt,i] = x[j]*x[k]\n",
    "                cnt = cnt + 1\n",
    "           \n",
    "        X[:,i] = X[:,i]/np.linalg.norm(X[:,i])\n",
    "        \n",
    "    return X, Y, img\n",
    "    \n",
    "# load all examples from a folder    \n",
    "def load_examples( image_folder ):\n",
    "    \n",
    "    files = [f for f in listdir(image_folder) if isfile(join(image_folder, f))]\n",
    "\n",
    "    X = []\n",
    "    Y = []\n",
    "    img = []\n",
    "    for file in listdir(image_folder):\n",
    "        path = join(image_folder, file)\n",
    "        if isfile( path ):\n",
    "                        \n",
    "            X_,Y_,img_ = load_example( path )\n",
    "            X.append( X_ )\n",
    "            Y.append( Y_ )\n",
    "            img.append( img_ )\n",
    "        \n",
    "    return X, Y, img\n",
    "    \n"
   ]
  },
  {
   "cell_type": "code",
   "execution_count": null,
   "metadata": {},
   "outputs": [],
   "source": [
    "# load training examples\n",
    "trn_X, trn_Y, trn_img = load_examples( 'ocr_names_images/trn' )\n",
    "\n",
    "# load testing examples\n",
    "tst_X, tst_Y, tst_img = load_examples( 'ocr_names_images/tst' )\n"
   ]
  },
  {
   "cell_type": "code",
   "execution_count": null,
   "metadata": {},
   "outputs": [],
   "source": [
    "print(f\"#features={trn_X[0].shape[0]}\")\n",
    "print(f\"#trn examples={len(trn_X)}\")\n",
    "print(f\"#tst examples={len(tst_X)}\")\n",
    "\n",
    "\n",
    "# show the first testing example \n",
    "plt.figure()\n",
    "plt.imshow( tst_img[0], cmap='Greys')\n",
    "plt.title( tst_Y[0] )\n",
    "\n",
    "for i in range(tst_X[0].shape[1]):\n",
    "    plt.figure()\n",
    "    plt.plot( tst_X[0][:,i])\n",
    "    plt.title(f\"features of character {tst_Y[0][i]}\")\n"
   ]
  }
 ],
 "metadata": {
  "kernelspec": {
   "display_name": "Python 3 (ipykernel)",
   "language": "python",
   "name": "python3"
  },
  "language_info": {
   "codemirror_mode": {
    "name": "ipython",
    "version": 3
   },
   "file_extension": ".py",
   "mimetype": "text/x-python",
   "name": "python",
   "nbconvert_exporter": "python",
   "pygments_lexer": "ipython3",
   "version": "3.10.8"
  }
 },
 "nbformat": 4,
 "nbformat_minor": 4
}
