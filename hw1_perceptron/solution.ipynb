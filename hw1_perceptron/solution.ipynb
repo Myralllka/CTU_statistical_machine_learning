{
 "cells": [
  {
   "cell_type": "markdown",
   "metadata": {},
   "source": [
    "# STATISTICAL MACHINE LEARNING (WS2022). COMPUTER LAB"
   ]
  },
  {
   "cell_type": "markdown",
   "metadata": {},
   "source": [
    "### Independent linear multi-class classifier"
   ]
  },
  {
   "cell_type": "code",
   "execution_count": null,
   "metadata": {
    "pycharm": {
     "name": "#%%\n"
    }
   },
   "outputs": [],
   "source": [
    "from PIL import Image\n",
    "import matplotlib.pyplot as plt\n",
    "import numpy as np\n",
    "from os import listdir\n",
    "from os.path import isfile, join\n",
    "\n",
    "\n",
    "# load single example\n",
    "def load_example(img_path):\n",
    "\n",
    "    Y = img_path[img_path.rfind('_') + 1:-4]\n",
    "\n",
    "    img = Image.open(img_path)\n",
    "    img_mat = np.asarray(img)\n",
    "\n",
    "    n_letters = len(Y)\n",
    "    im_height = int(img_mat.shape[0])\n",
    "    im_width = int(img_mat.shape[1] / n_letters)\n",
    "    n_pixels = im_height * im_width\n",
    "\n",
    "    X = np.zeros([int(n_pixels + n_pixels * (n_pixels - 1) / 2), n_letters])\n",
    "    for i in range(n_letters):\n",
    "\n",
    "        # single letter\n",
    "        letter = img_mat[:, i * im_width:(i + 1) * im_width] / 255\n",
    "\n",
    "        # compute features\n",
    "        x = letter.flatten()\n",
    "        X[0:len(x), i] = x\n",
    "        cnt = n_pixels\n",
    "        for j in range(0, n_pixels - 1):\n",
    "            for k in range(j + 1, n_pixels):\n",
    "                X[cnt, i] = x[j] * x[k]\n",
    "                cnt = cnt + 1\n",
    "\n",
    "        X[:, i] = X[:, i] / np.linalg.norm(X[:, i])\n",
    "\n",
    "    return X, Y, img\n",
    "\n",
    "\n",
    "# load all examples from a folder\n",
    "def load_examples(image_folder):\n",
    "\n",
    "    files = [f for f in listdir(image_folder) if isfile(join(image_folder, f))]\n",
    "\n",
    "    X = []\n",
    "    Y = []\n",
    "    img = []\n",
    "    for file in listdir(image_folder):\n",
    "        path = join(image_folder, file)\n",
    "        if isfile(path):\n",
    "\n",
    "            X_, Y_, img_ = load_example(path)\n",
    "            X.append(X_)\n",
    "            Y.append(Y_)\n",
    "            img.append(img_)\n",
    "\n",
    "    return X, Y, img\n",
    "\n",
    "\n",
    "def n2l(num):\n",
    "    # number to letter\n",
    "    return chr(97 + int(num))\n",
    "\n",
    "\n",
    "def l2n(let):\n",
    "    # letter to number\n",
    "    return ord(let) - ord('a')\n",
    "\n",
    "\n",
    "def compute_idxs_ind(l_y, X):\n",
    "    n = l_y\n",
    "    if type(l_y) is np.str_ and len(l_y) == 1:\n",
    "        n = l2n(l_y)\n",
    "    # n - the number of the letter in alphabet\n",
    "    idx_start = n * X + n\n",
    "    idx_end = n * X + X + n\n",
    "    return idx_start, idx_end\n",
    "\n",
    "\n",
    "def train_independent_linear_classifier(trn_X, trn_Y, N):\n",
    "    counter = 0\n",
    "    W = np.zeros((N * trn_X[0].shape[0] + N))\n",
    "    X = trn_X[0].shape[0]\n",
    "    while True:\n",
    "        print(counter)\n",
    "        counter += 1\n",
    "        missclass = 0\n",
    "        for i in range(len(trn_X)):\n",
    "            # trn_X[i] is a word\n",
    "            for letter in range(trn_X[i].shape[1]):\n",
    "                # trn_X[i][letter] is a letter\n",
    "                y_correct = l2n(str(trn_Y[i][letter]))\n",
    "                y_hat = np.zeros(N)\n",
    "                for y in range(N):\n",
    "                    # y - guess letter\n",
    "                    b, e = compute_idxs_ind(y, X)\n",
    "                    tmp_vec = np.append(trn_X[i][:, letter], [1])\n",
    "                    y_hat[y] = tmp_vec @ W[b:e + 1]\n",
    "                maxx = np.argmax(y_hat)\n",
    "                if maxx != y_correct:\n",
    "                    b1, e1 = compute_idxs_ind(y_correct, X)\n",
    "                    b2, e2 = compute_idxs_ind(maxx, X)\n",
    "                    W[b1: e1] += trn_X[i][:, letter]\n",
    "                    W[e1] += 1\n",
    "                    W[b2: e2] -= trn_X[i][:, letter]\n",
    "                    W[e2] -= 1\n",
    "                    missclass += 1\n",
    "                    print(\".\", end='')\n",
    "\n",
    "        if missclass == 0:\n",
    "            return W\n",
    "\n",
    "\n",
    "def test_independent_linear_classifier(tst_X, tst_Y, N, W):\n",
    "    l_X_ = tst_X[0].shape[0]\n",
    "    error_char_sum = 0\n",
    "    error_seq_sum = 0\n",
    "    char_counter = 0\n",
    "    for i in range(len(tst_X)):\n",
    "        # trn_X[i] is a word\n",
    "        res_word = \"\"\n",
    "        for letter in range(tst_X[i].shape[1]):\n",
    "            char_counter += 1\n",
    "            # trn_X[i][letter] is a letter\n",
    "            y_correct = l2n(str(tst_Y[i][letter]))\n",
    "            y_hat = np.zeros(N)\n",
    "            for y in range(N):\n",
    "                # y - guess letter\n",
    "                b, e = compute_idxs_ind(y, l_X_)\n",
    "                tmp_vec = np.append(tst_X[i][:, letter], [1])\n",
    "                y_hat[y] = tmp_vec @ W[b:e + 1]\n",
    "            maxx = np.argmax(y_hat)\n",
    "            res_word += n2l(maxx)\n",
    "            if maxx != y_correct:\n",
    "                error_char_sum += 1\n",
    "        if res_word != tst_Y[i]:\n",
    "            # print(res_word, \"!=\", tst_Y[i])\n",
    "            error_seq_sum += 1\n",
    "\n",
    "    return error_seq_sum / len(tst_X), error_char_sum / char_counter\n",
    "\n"
   ]
  },
  {
   "cell_type": "code",
   "execution_count": null,
   "metadata": {
    "pycharm": {
     "name": "#%%\n"
    }
   },
   "outputs": [],
   "source": [
    "# load training examples\n",
    "trn_X, trn_Y, trn_img = load_examples('ocr_names_images/trn')\n",
    "\n",
    "# load testing examples\n",
    "tst_X, tst_Y, tst_img = load_examples('ocr_names_images/tst')\n",
    "\n"
   ]
  },
  {
   "cell_type": "markdown",
   "metadata": {},
   "source": [
    "### Linear structured classifier modeling pair-wise dependency "
   ]
  },
  {
   "cell_type": "code",
   "execution_count": null,
   "metadata": {
    "pycharm": {
     "name": "#%%\n"
    }
   },
   "outputs": [],
   "source": [
    "N = 26  # number of letters in alphabet"
   ]
  },
  {
   "cell_type": "code",
   "execution_count": null,
   "metadata": {
    "pycharm": {
     "name": "#%%\n"
    }
   },
   "outputs": [],
   "source": [
    "X = trn_X[0].shape[0]\n",
    "SIZE = (X + N + 1) * N\n",
    "\n",
    "\n",
    "def fn_q(l_x, l_W, l_y):\n",
    "    l_beg, b_idx, l_end = compute_idxs_pairs(l_y, X, N)\n",
    "    tmp = l_x @ l_W[l_beg:b_idx]\n",
    "    return tmp + l_W[b_idx]\n",
    "\n",
    "\n",
    "def fn_g_idx(y1: int, y2: int):\n",
    "    return y1 * (X + N + 1) + X + 1 + y2\n",
    "\n",
    "\n",
    "def fn_g(y1: int, y2: int, l_W):\n",
    "    # the letter y1 after y2\n",
    "    return l_W[fn_g_idx(y1, y2)]\n",
    "\n",
    "\n",
    "def fn_f(l_W, l_F_mat, l_Y_mat, l_trn_X):\n",
    "    for i_L in range(N):\n",
    "        l_F_mat[i_L, 0] = fn_q(l_trn_X[:, 0], l_W, i_L)\n",
    "\n",
    "    for i_L in range(1, l_trn_X.shape[1]):  # i_L e letters of a word\n",
    "        for i_y in range(N):  # i_y e Alphabet\n",
    "            l_f = np.array([l_F_mat[k][i_L - 1] + fn_g(k, i_y, l_W) for k in range(N)])\n",
    "            l_Y_mat[i_y, i_L - 1] = np.argmax(l_f)\n",
    "            l_F_mat[i_y, i_L] = fn_q(l_trn_X[:, i_L], l_W, i_y) + np.max(l_f)\n",
    "\n",
    "\n",
    "def compute_idxs_pairs(l_y, X_feature_size: int, alphabet_size: int):\n",
    "    n = l_y\n",
    "    if type(l_y) is np.str_ and len(l_y) == 1:\n",
    "        n = l2n(l_y)\n",
    "    # n - the number of the letter in alphabet\n",
    "    idx_start = n * (X_feature_size + 1 + alphabet_size)\n",
    "    idx_b = idx_start + X_feature_size\n",
    "    idx_end = n * (X_feature_size + 1 + alphabet_size) + X_feature_size + alphabet_size + 1\n",
    "    return idx_start, idx_b, idx_end\n",
    "\n",
    "\n",
    "# W structure: [X(a), b(a), g(a a)...g(a z); .....; X(z), b(z), g(z a)...g(z, z)]\n",
    "def phi(l_x, l_y):\n",
    "    res = np.zeros(SIZE)\n",
    "    for i_ in range(len(l_y)):\n",
    "        l_beg, b_idx, l_end = compute_idxs_pairs(l2n(l_y[i_]), X, N)\n",
    "        res[l_beg:b_idx] += l_x[:, i_]\n",
    "        res[b_idx] += 1\n",
    "\n",
    "    for i_ in range(1, len(l_y)):\n",
    "        res[fn_g_idx(l2n(l_y[i_ - 1]), l2n(l_y[i_]))] += 1\n",
    "\n",
    "    return res\n",
    "\n",
    "\n",
    "def train_linear_pairwise_classifier(trn_X, trn_Y, N):\n",
    "    W = np.zeros(SIZE)\n",
    "    counter = 0\n",
    "    while True:\n",
    "        print(counter)\n",
    "        counter += 1\n",
    "        missclass = 0\n",
    "        for i in range(len(trn_X)):\n",
    "            # trn_X[i] is a word\n",
    "            tmp_idx = trn_X[i].shape[1]\n",
    "            F_mat = np.zeros((N, tmp_idx))\n",
    "            Y_mat = np.zeros((N, tmp_idx - 1))\n",
    "\n",
    "            fn_f(W, F_mat, Y_mat, trn_X[i])\n",
    "\n",
    "            guessed_word = n2l(np.argmax(F_mat[:, -1]))\n",
    "            for j in range(trn_X[i].shape[1] - 1):\n",
    "                guessed_word += n2l(Y_mat[l2n(guessed_word[-1])][-1 - j])\n",
    "\n",
    "            guessed_word = guessed_word[::-1]\n",
    "\n",
    "            if guessed_word != trn_Y[i]:\n",
    "                # update the W\n",
    "                W += phi(trn_X[i], trn_Y[i]) - phi(trn_X[i], guessed_word)\n",
    "                missclass += 1\n",
    "                print(\".\", end='')\n",
    "        if missclass == 0:\n",
    "            return W\n",
    "\n",
    "\n",
    "def test_linear_pairwise_classifier(trn_X, trn_Y, N, W):\n",
    "    X = tst_X[0].shape[0]\n",
    "    error_char_sum = 0\n",
    "    error_seq_sum = 0\n",
    "    char_counter = 0\n",
    "    for i in range(len(trn_Y)):\n",
    "        # trn_X[i] is a word\n",
    "        tmp_idx = trn_X[i].shape[1]\n",
    "        F_mat = np.zeros((N, tmp_idx))\n",
    "        Y_mat = np.zeros((N, tmp_idx - 1))\n",
    "        fn_f(W, F_mat, Y_mat, trn_X[i])\n",
    "        guessed_word = n2l(np.argmax(F_mat[:, -1]))\n",
    "        for j in range(trn_X[i].shape[1] - 1):\n",
    "            guessed_word += n2l(Y_mat[l2n(guessed_word[-1])][-1 - j])\n",
    "        guessed_word = guessed_word[::-1]\n",
    "        for c in range(len(guessed_word)):\n",
    "            char_counter += 1\n",
    "        if guessed_word != trn_Y[i]:\n",
    "            for c in range(len(guessed_word)):\n",
    "                char_counter += 1\n",
    "                if guessed_word[c] != trn_Y[i][c]:\n",
    "                    error_char_sum += 1\n",
    "            error_seq_sum += 1\n",
    "    return error_seq_sum / len(tst_X), error_char_sum / char_counter"
   ]
  },
  {
   "cell_type": "code",
   "execution_count": null,
   "metadata": {
    "pycharm": {
     "is_executing": true,
     "name": "#%%\n"
    }
   },
   "outputs": [],
   "source": [
    "K = 0\n",
    "print(f\"#features={trn_X[K].shape[0]}\")\n",
    "print(f\"#features={trn_X[K].shape[1]}\")\n",
    "print(f\"#trn examples={len(trn_X)}\")\n",
    "print(f\"#tst examples={len(tst_X)}\")\n",
    "\n",
    "# show the first testing example\n",
    "# for i in range(10):\n",
    "#     plt.figure()\n",
    "#     plt.imshow( trn_img[i], cmap='Greys')\n",
    "#     plt.title( trn_Y[i] )\n",
    "# plt.figure()\n",
    "# plt.imshow( trn_img[K], cmap='Greys')\n",
    "# plt.title( trn_Y[K] )\n",
    "\n",
    "# for i in range(trn_X[K].shape[1]):\n",
    "#     plt.figure()\n",
    "#     plt.plot( trn_X[K][:,i])\n",
    "#     plt.title(f\"features of character {trn_Y[K][i]}\")\n"
   ]
  },
  {
   "cell_type": "code",
   "execution_count": null,
   "metadata": {
    "pycharm": {
     "name": "#%%\n"
    }
   },
   "outputs": [],
   "source": [
    "# W = train_independent_linear_classifier(trn_X, trn_Y, N)\n",
    "# print(W.shape)\n",
    "# e1, e2 = test_independent_linear_classifier(trn_X, trn_Y, N, W)\n",
    "# print(\"train_set_errors\", e1, e2)  # 0.0 0.0\n",
    "# err1, err2 = test_independent_linear_classifier(tst_X, tst_Y, N, W)\n",
    "# print(\"test_set_errors: \", err1, err2)  # 0.706 0.26392823418319167"
   ]
  },
  {
   "cell_type": "code",
   "execution_count": null,
   "metadata": {
    "pycharm": {
     "name": "#%%\n"
    }
   },
   "outputs": [],
   "source": [
    "W = train_linear_pairwise_classifier(trn_X, trn_Y, N)\n",
    "e1, e2 = test_linear_pairwise_classifier(trn_X, trn_Y, N, W)\n",
    "print(\"train_set_errors\", e1, e2) # 0.0 0.0\n",
    "err1, err2 = test_linear_pairwise_classifier(tst_X, tst_Y, N, W)\n",
    "print(\"test_set_errors: \", err1, err2) # 0.118 0.04643449419568822"
   ]
  },
  {
   "cell_type": "code",
   "execution_count": null,
   "metadata": {
    "pycharm": {
     "name": "#%%\n"
    }
   },
   "outputs": [],
   "source": []
  }
 ],
 "metadata": {
  "kernelspec": {
   "display_name": "Python 3 (ipykernel)",
   "language": "python",
   "name": "python3"
  },
  "language_info": {
   "codemirror_mode": {
    "name": "ipython",
    "version": 3
   },
   "file_extension": ".py",
   "mimetype": "text/x-python",
   "name": "python",
   "nbconvert_exporter": "python",
   "pygments_lexer": "ipython3",
   "version": "3.10.8"
  }
 },
 "nbformat": 4,
 "nbformat_minor": 4
}
