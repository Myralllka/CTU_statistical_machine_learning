{
 "cells": [
  {
   "cell_type": "code",
   "execution_count": null,
   "metadata": {
    "pycharm": {
     "name": "#%%\n"
    }
   },
   "outputs": [],
   "source": [
    "from PIL import Image\n",
    "import matplotlib.pyplot as plt\n",
    "import numpy as np\n",
    "from os import listdir\n",
    "from os.path import isfile, join\n",
    "\n",
    "\n",
    "# load single example\n",
    "def load_example(img_path):\n",
    "\n",
    "    Y = img_path[img_path.rfind('_') + 1:-4]\n",
    "\n",
    "    img = Image.open(img_path)\n",
    "    img_mat = np.asarray(img)\n",
    "\n",
    "    n_letters = len(Y)\n",
    "    im_height = int(img_mat.shape[0])\n",
    "    im_width = int(img_mat.shape[1] / n_letters)\n",
    "    n_pixels = im_height * im_width\n",
    "\n",
    "    X = np.zeros([int(n_pixels + n_pixels * (n_pixels - 1) / 2), n_letters])\n",
    "    for i in range(n_letters):\n",
    "\n",
    "        # single letter\n",
    "        letter = img_mat[:, i * im_width:(i + 1) * im_width] / 255\n",
    "\n",
    "        # compute features\n",
    "        x = letter.flatten()\n",
    "        X[0:len(x), i] = x\n",
    "        cnt = n_pixels\n",
    "        for j in range(0, n_pixels - 1):\n",
    "            for k in range(j + 1, n_pixels):\n",
    "                X[cnt, i] = x[j] * x[k]\n",
    "                cnt = cnt + 1\n",
    "\n",
    "        X[:, i] = X[:, i] / np.linalg.norm(X[:, i])\n",
    "\n",
    "    return X, Y, img\n",
    "\n",
    "\n",
    "# load all examples from a folder\n",
    "def load_examples(image_folder):\n",
    "\n",
    "    files = [f for f in listdir(image_folder) if isfile(join(image_folder, f))]\n",
    "\n",
    "    X = []\n",
    "    Y = []\n",
    "    img = []\n",
    "    for file in listdir(image_folder):\n",
    "        path = join(image_folder, file)\n",
    "        if isfile(path):\n",
    "\n",
    "            X_, Y_, img_ = load_example(path)\n",
    "            X.append(X_)\n",
    "            Y.append(Y_)\n",
    "            img.append(img_)\n",
    "\n",
    "    return X, Y, img\n",
    "\n",
    "\n",
    "def n2l(num):\n",
    "    # number to letter\n",
    "    return chr(97 + int(num))\n",
    "\n",
    "\n",
    "def l2n(let):\n",
    "    # letter to number\n",
    "    return ord(let) - ord('a')\n",
    "\n",
    "\n",
    "def feature_function(x, y):\n",
    "    # y - one letter\n",
    "    N = 26  # number of letters in alphabet\n",
    "    n = y\n",
    "    if type(y) is np.str_ and len(y) == 1:\n",
    "        n = l2n(y)\n",
    "    res = np.zeros((N * x.shape[0]))\n",
    "    res[n * x.shape[0]:n * x.shape[0] + x.shape[0]] = x\n",
    "    return res\n",
    "\n",
    "\n",
    "def compute_idxs(l_y, X):\n",
    "    n = l_y\n",
    "    if type(l_y) is np.str_ and len(l_y) == 1:\n",
    "        n = l2n(l_y)\n",
    "    # n - the number of the letter in alphabet\n",
    "    idx_start = n * X + n\n",
    "    idx_end = n * X + X + n\n",
    "    return idx_start, idx_end\n",
    "\n",
    "\n",
    "def train_independent_linear_classifier(trn_X, trn_Y, N):\n",
    "    counter = 0\n",
    "    W = np.zeros((N * trn_X[0].shape[0] + N))\n",
    "    X = trn_X[0].shape[0]\n",
    "    while True:\n",
    "        print(counter)\n",
    "        counter += 1\n",
    "        missclass = 0\n",
    "        for i in range(len(trn_X)):\n",
    "            # trn_X[i] is a word\n",
    "            for letter in range(trn_X[i].shape[1]):\n",
    "                # trn_X[i][letter] is a letter\n",
    "                y_correct = l2n(str(trn_Y[i][letter]))\n",
    "                y_hat = np.zeros(N)\n",
    "                for y in range(N):\n",
    "                    # y - guess letter\n",
    "                    b, e = compute_idxs(y, X)\n",
    "                    tmp_vec = np.append(trn_X[i][:, letter], [1])\n",
    "                    y_hat[y] = tmp_vec @ W[b:e + 1]\n",
    "                maxx = np.argmax(y_hat)\n",
    "                if maxx != y_correct:\n",
    "                    b1, e1 = compute_idxs(y_correct, X)\n",
    "                    b2, e2 = compute_idxs(maxx, X)\n",
    "                    W[b1: e1] += trn_X[i][:, letter]\n",
    "                    W[e1] += 1\n",
    "                    W[b2: e2] -= trn_X[i][:, letter]\n",
    "                    W[e2] -= 1\n",
    "                    missclass += 1\n",
    "                    print(\".\", end='')\n",
    "\n",
    "        if missclass == 0:\n",
    "            return W\n",
    "\n",
    "\n",
    "def test_independent_linear_classifier(tst_X, tst_Y, N, W):\n",
    "    X = tst_X[0].shape[0]\n",
    "    error_char_sum = 0\n",
    "    error_seq_sum = 0\n",
    "    char_counter = 0\n",
    "    for i in range(len(tst_X)):\n",
    "        # trn_X[i] is a word\n",
    "        res_word = \"\"\n",
    "        for letter in range(tst_X[i].shape[1]):\n",
    "            char_counter += 1\n",
    "            # trn_X[i][letter] is a letter\n",
    "            y_correct = l2n(str(tst_Y[i][letter]))\n",
    "            y_hat = np.zeros(N)\n",
    "            for y in range(N):\n",
    "                # y - guess letter\n",
    "                b, e = compute_idxs(y, X)\n",
    "                tmp_vec = np.append(tst_X[i][:, letter], [1])\n",
    "                y_hat[y] = tmp_vec @ W[b:e + 1]\n",
    "            maxx = np.argmax(y_hat)\n",
    "            res_word += n2l(maxx)\n",
    "            if maxx != y_correct:\n",
    "                error_char_sum += 1\n",
    "        if res_word != tst_Y[i]:\n",
    "            print(res_word, \"!=\", tst_Y[i])\n",
    "            error_seq_sum += 1\n",
    "\n",
    "    return error_seq_sum / len(tst_X), error_char_sum / char_counter\n"
   ]
  },
  {
   "cell_type": "code",
   "execution_count": null,
   "metadata": {
    "pycharm": {
     "name": "#%%\n"
    }
   },
   "outputs": [],
   "source": [
    "# load training examples\n",
    "trn_X, trn_Y, trn_img = load_examples('ocr_names_images/trn')\n",
    "\n",
    "# load testing examples\n",
    "tst_X, tst_Y, tst_img = load_examples('ocr_names_images/tst')\n",
    "\n"
   ]
  },
  {
   "cell_type": "code",
   "execution_count": null,
   "metadata": {
    "pycharm": {
     "name": "#%%\n"
    }
   },
   "outputs": [],
   "source": [
    "K = 0\n",
    "print(f\"#features={trn_X[K].shape[0]}\")\n",
    "print(f\"#features={trn_X[K].shape[1]}\")\n",
    "print(f\"#trn examples={len(trn_X)}\")\n",
    "print(f\"#tst examples={len(tst_X)}\")\n",
    "\n",
    "# show the first testing example \n",
    "\n",
    "# plt.figure()\n",
    "# plt.imshow( trn_img[K], cmap='Greys')\n",
    "# plt.title( trn_Y[K] )\n",
    "\n",
    "# for i in range(trn_X[K].shape[1]):\n",
    "#     plt.figure()\n",
    "#     plt.plot( trn_X[K][:,i])\n",
    "#     plt.title(f\"features of character {trn_Y[K][i]}\")\n"
   ]
  },
  {
   "cell_type": "code",
   "execution_count": null,
   "metadata": {
    "pycharm": {
     "name": "#%%\n"
    }
   },
   "outputs": [],
   "source": [
    "N = 26  # number of letters in alphabet\n",
    "W = train_independent_linear_classifier(trn_X, trn_Y, N)"
   ]
  },
  {
   "cell_type": "code",
   "execution_count": null,
   "metadata": {
    "pycharm": {
     "name": "#%%\n"
    }
   },
   "outputs": [],
   "source": [
    "e1, e2 = test_independent_linear_classifier(trn_X, trn_Y, N, W)\n",
    "print(\"train_set_errors\", e1, e2)\n",
    "err1, err2 = test_independent_linear_classifier(tst_X, tst_Y, N, W)\n",
    "print(\"test_set_errors: \", err1, err2)"
   ]
  },
  {
   "cell_type": "code",
   "execution_count": null,
   "metadata": {
    "pycharm": {
     "name": "#%%\n"
    }
   },
   "outputs": [],
   "source": []
  },
  {
   "cell_type": "code",
   "execution_count": null,
   "metadata": {
    "pycharm": {
     "name": "#%%\n"
    }
   },
   "outputs": [],
   "source": []
  }
 ],
 "metadata": {
  "kernelspec": {
   "display_name": "Python 3 (ipykernel)",
   "language": "python",
   "name": "python3"
  },
  "language_info": {
   "codemirror_mode": {
    "name": "ipython",
    "version": 3
   },
   "file_extension": ".py",
   "mimetype": "text/x-python",
   "name": "python",
   "nbconvert_exporter": "python",
   "pygments_lexer": "ipython3",
   "version": "3.10.8"
  }
 },
 "nbformat": 4,
 "nbformat_minor": 4
}
